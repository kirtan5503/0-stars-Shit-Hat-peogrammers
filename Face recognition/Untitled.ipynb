{
 "cells": [
  {
   "cell_type": "code",
   "execution_count": 1,
   "id": "0720c62f",
   "metadata": {},
   "outputs": [
    {
     "ename": "ModuleNotFoundError",
     "evalue": "No module named 'cv2'",
     "output_type": "error",
     "traceback": [
      "\u001b[1;31m---------------------------------------------------------------------------\u001b[0m",
      "\u001b[1;31mModuleNotFoundError\u001b[0m                       Traceback (most recent call last)",
      "\u001b[1;32m~\\AppData\\Local\\Temp\\ipykernel_2624\\664687186.py\u001b[0m in \u001b[0;36m<module>\u001b[1;34m\u001b[0m\n\u001b[1;32m----> 1\u001b[1;33m \u001b[1;32mimport\u001b[0m \u001b[0mcv2\u001b[0m\u001b[1;33m\u001b[0m\u001b[1;33m\u001b[0m\u001b[0m\n\u001b[0m\u001b[0;32m      2\u001b[0m \u001b[1;32mimport\u001b[0m \u001b[0mnumpy\u001b[0m \u001b[1;32mas\u001b[0m \u001b[0mnp\u001b[0m\u001b[1;33m\u001b[0m\u001b[1;33m\u001b[0m\u001b[0m\n\u001b[0;32m      3\u001b[0m \u001b[1;32mimport\u001b[0m \u001b[0mface_recognition\u001b[0m\u001b[1;33m\u001b[0m\u001b[1;33m\u001b[0m\u001b[0m\n\u001b[0;32m      4\u001b[0m \u001b[1;33m\u001b[0m\u001b[0m\n\u001b[0;32m      5\u001b[0m \u001b[1;33m\u001b[0m\u001b[0m\n",
      "\u001b[1;31mModuleNotFoundError\u001b[0m: No module named 'cv2'"
     ]
    }
   ],
   "source": [
    "import cv2\n",
    "import numpy as np\n",
    "import face_recognition\n",
    "\n",
    "\n",
    "img1= face_recognition.load_image_file('imagesbasic/Billgates.jpg')\n",
    "img1 = cv2.cvtColor(img1,cv2.COLOR_BGR2RGB)\n",
    "img2= face_recognition.load_image_file('imagesbasic/Elonmusk.jpg')\n",
    "img2 = cv2.cvtColor(img2,cv2.COLOR_BGR2RGB)\n",
    "\n",
    "faceLoc = face_recognition.face_locations(img1)[0]\n",
    "encod1 = face_recognition.face_encodings(img1)[0]\n",
    "cv2.rectangle(img1,(faceLoc[3],faceLoc[0],faceLoc[1],faceLoc[2]),(333),2)\n",
    "\n",
    "faceLoc = face_recognition.face_locations(img2)[0]\n",
    "encod2 = face_recognition.face_encodings(img2)[0]\n",
    "cv2.rectangle(img2,(faceLoc[3],faceLoc[0],faceLoc[1],faceLoc[2]),(333),2)\n",
    "\n",
    "results = face_recognition.compare_faces([encod1],encod2)\n",
    "facedis = face_recognition.face_distance([encod1],encod2)\n",
    "print(results,facedis)\n",
    "cv2.putText(img2,f'{results}{round(facedis[0],2)}',(50,50),cv2.FONT_HERSHEY_COMPLEX,1,(0,0,0),2)\n",
    "\n",
    "\n",
    "cv2.imshow('Elon Musk',img1)\n",
    "cv2.imshow('Elon Musk Test',img2)\n",
    "cv2.waitKey(0)\n"
   ]
  },
  {
   "cell_type": "code",
   "execution_count": null,
   "id": "14055dd8",
   "metadata": {},
   "outputs": [],
   "source": []
  }
 ],
 "metadata": {
  "kernelspec": {
   "display_name": "Python 3 (ipykernel)",
   "language": "python",
   "name": "python3"
  },
  "language_info": {
   "codemirror_mode": {
    "name": "ipython",
    "version": 3
   },
   "file_extension": ".py",
   "mimetype": "text/x-python",
   "name": "python",
   "nbconvert_exporter": "python",
   "pygments_lexer": "ipython3",
   "version": "3.9.13"
  }
 },
 "nbformat": 4,
 "nbformat_minor": 5
}
